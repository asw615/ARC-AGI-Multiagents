{
 "cells": [
  {
   "cell_type": "markdown",
   "id": "13d0cffc",
   "metadata": {
    "papermill": {
     "duration": 0.004788,
     "end_time": "2024-10-04T16:51:43.112094",
     "exception": false,
     "start_time": "2024-10-04T16:51:43.107306",
     "status": "completed"
    },
    "tags": []
   },
   "source": [
    "# 📩 Self Sufficient Kaggle Submission"
   ]
  },
  {
   "cell_type": "markdown",
   "id": "b03956af",
   "metadata": {
    "papermill": {
     "duration": 0.003545,
     "end_time": "2024-10-04T16:51:43.119983",
     "exception": false,
     "start_time": "2024-10-04T16:51:43.116438",
     "status": "completed"
    },
    "tags": []
   },
   "source": [
    "### Important Considerations for This Approach\n",
    "\n",
    "This simplified approach may not suit your needs if your solution depends on an external model file. In that case, you should consider using the alternative approach (which involves importing and using an external package).\n",
    "\n",
    "✅ Succedded as an ARC Prize 2024 submission (scored 0.0 because no solution was implemented).\n",
    "\n",
    "### 🚨 Key Reminder 🚨\n",
    "\n",
    "Make sure to **implement your solution** within the `predict()` function provided in this notebook. This is crucial for your model to function correctly during evaluation.\n",
    "\n",
    "### Differences from the Full Framework Version\n",
    "\n",
    "This notebook contains a minimal version of the framework, designed for streamlined usage in the Kaggle environment, with a few adjustments:\n",
    "- **Docstrings Removed**: To save space, detailed docstrings for classes, methods, and functions have been omitted here. You can find the full documentation within the base framework.\n",
    "- **No Graphics**: The `Graphics` class, which is responsible for plotting challenges, has been excluded because Kaggle's environment lacks an interactive interface. Consequently, the `Solver` class has also been shortened, omitting any plotting functionalities.\n",
    "\n",
    "### Efficient Handling of Evaluation\n",
    "\n",
    "This code implements several optimizations to ensure smooth handling during evaluation:\n",
    "- **Fallback for Failed Predictions**: If your prediction fails, the code automatically fills the submission file with a random answer. This ensures that the file format remains intact and avoids breaking the submission.\n",
    "- **Challenge Ordering**: Challenges are processed in ascending order of size, optimizing the number of completed challenges in case the evaluation runs out of time.\n",
    "- **Incremental Submission Writing**: After each prediction, the result is immediately added to the submission file. Unlike other approaches that predict all solutions first and then write to the file at the end (which can disrupt evaluation), this method ensures each result is promptly stored.\n"
   ]
  },
  {
   "cell_type": "code",
   "execution_count": 1,
   "id": "8e23b037",
   "metadata": {
    "execution": {
     "iopub.execute_input": "2024-10-04T16:51:43.130339Z",
     "iopub.status.busy": "2024-10-04T16:51:43.129285Z",
     "iopub.status.idle": "2024-10-04T16:51:43.148005Z",
     "shell.execute_reply": "2024-10-04T16:51:43.146701Z"
    },
    "papermill": {
     "duration": 0.026796,
     "end_time": "2024-10-04T16:51:43.150673",
     "exception": false,
     "start_time": "2024-10-04T16:51:43.123877",
     "status": "completed"
    },
    "tags": []
   },
   "outputs": [],
   "source": [
    "import os\n",
    "import json\n",
    "import random\n",
    "import numpy as np\n",
    "from tqdm import tqdm"
   ]
  },
  {
   "cell_type": "code",
   "execution_count": 2,
   "id": "39a5b4c7",
   "metadata": {
    "_cell_guid": "b1076dfc-b9ad-4769-8c92-a6c4dae69d19",
    "_uuid": "8f2839f25d086af736a60e9eeb907d3b93b6e0e5",
    "execution": {
     "iopub.execute_input": "2024-10-04T16:51:43.160905Z",
     "iopub.status.busy": "2024-10-04T16:51:43.159820Z",
     "iopub.status.idle": "2024-10-04T16:51:43.173403Z",
     "shell.execute_reply": "2024-10-04T16:51:43.172308Z"
    },
    "papermill": {
     "duration": 0.021198,
     "end_time": "2024-10-04T16:51:43.175885",
     "exception": false,
     "start_time": "2024-10-04T16:51:43.154687",
     "status": "completed"
    },
    "tags": []
   },
   "outputs": [],
   "source": [
    "def shuffle_list(input_list):\n",
    "    random.shuffle(input_list)\n",
    "    return input_list\n",
    "\n",
    "\n",
    "def load_json(file_path):\n",
    "    with open(file_path) as f:\n",
    "        data = json.load(f)\n",
    "    return data\n",
    "\n",
    "def manhattan_distance(xa, ya, xb, yb):\n",
    "    return abs(xa - xb) + abs(ya - yb)\n",
    "\n",
    "\n",
    "def calculate_center(points):\n",
    "    x_coordinates = [point[0] for point in points]\n",
    "    y_coordinates = [point[1] for point in points]\n",
    "\n",
    "    center_x = sum(x_coordinates) / len(x_coordinates)\n",
    "    center_y = sum(y_coordinates) / len(y_coordinates)\n",
    "\n",
    "    return (center_x, center_y)\n",
    "\n",
    "\n",
    "def sort_challenges_by_size(challenges, ascending=True):\n",
    "    def count_challenge_cells(challenge):\n",
    "        return sum(\n",
    "            extract_numbers(example['input']) + extract_numbers(example['output']) \n",
    "            for example in challenge['train']\n",
    "        )\n",
    "\n",
    "    def extract_numbers(list_of_lists):\n",
    "        return sum(len(sublist) for sublist in list_of_lists)\n",
    "    \n",
    "    def check_ids(list1, list2):\n",
    "        return sorted(list1) == sorted(list2)\n",
    "    \n",
    "    def sort_ids_by_numbers(ids, numbers, ascending=True):\n",
    "        return [id for _, id in sorted(zip(numbers, ids), reverse=not ascending)]\n",
    "        \n",
    "    challenge_ids = list(challenges)\n",
    "    numbers = [count_challenge_cells(challenges[_id]) for _id in challenge_ids]\n",
    "\n",
    "    return sort_ids_by_numbers(challenge_ids, numbers, ascending=ascending)"
   ]
  },
  {
   "cell_type": "code",
   "execution_count": 3,
   "id": "52e3b2b1",
   "metadata": {
    "execution": {
     "iopub.execute_input": "2024-10-04T16:51:43.185472Z",
     "iopub.status.busy": "2024-10-04T16:51:43.185040Z",
     "iopub.status.idle": "2024-10-04T16:51:43.208566Z",
     "shell.execute_reply": "2024-10-04T16:51:43.207251Z"
    },
    "papermill": {
     "duration": 0.031225,
     "end_time": "2024-10-04T16:51:43.211117",
     "exception": false,
     "start_time": "2024-10-04T16:51:43.179892",
     "status": "completed"
    },
    "tags": []
   },
   "outputs": [],
   "source": [
    "class Solver:\n",
    "    def __init__(self, prod=False) -> None:\n",
    "        if prod:\n",
    "            self.base_path = '/kaggle/input/arc-prize-2024/'\n",
    "        else:\n",
    "            self.base_path = '../data/challenges/'\n",
    "\n",
    "        self.training_challenges = load_json(\n",
    "            self.base_path + 'arc-agi_training_challenges.json')\n",
    "        self.training_solutions = load_json(\n",
    "            self.base_path + 'arc-agi_training_solutions.json')\n",
    "        self.evaluation_challenges = load_json(\n",
    "            self.base_path + 'arc-agi_evaluation_challenges.json')\n",
    "        self.evaluation_solutions = load_json(\n",
    "            self.base_path + 'arc-agi_evaluation_solutions.json')\n",
    "        self.test_challenges = load_json(\n",
    "            self.base_path + 'arc-agi_test_challenges.json')\n",
    "        self.sample_submission = load_json(\n",
    "            self.base_path + 'sample_submission.json')\n",
    "\n",
    "    def predict(self, puzzle_inps_train, puzzle_outs_train, puzzle_inps_test, puzzle_outs_test=None):\n",
    "        try:\n",
    "            # ! Your board prediction solution goes here ! #\n",
    "            raise NotImplementedError\n",
    "        except Exception:\n",
    "            answers = self.random_prediction(\n",
    "                puzzle_outs_train, puzzle_inps_test)\n",
    "\n",
    "        return answers\n",
    "\n",
    "    def random_prediction(self, puzzle_outs_train, puzzle_inps_test):\n",
    "        answers = []\n",
    "        avg_shape = np.ceil(np.array([np.array(p.shape) for p in puzzle_outs_train]).mean(\n",
    "            0)).astype(int)\n",
    "        for _ in range(len(puzzle_inps_test)):\n",
    "            answers.append(np.random.randint(0, 10, size=avg_shape))\n",
    "\n",
    "        return answers\n",
    "\n",
    "    def train(self):\n",
    "        raise NotImplementedError\n",
    "\n",
    "    def validate(self):\n",
    "        raise NotImplementedError\n",
    "\n",
    "    def test(self):\n",
    "        raise NotImplementedError\n",
    "\n",
    "    def get_challenge_board(self, challenge_id, challenges, solutions, io: str, board_type: str, board_idx):\n",
    "\n",
    "        board = None\n",
    "        if challenge_id in list(challenges):\n",
    "            puzzle_inps_train, puzzle_outs_train, puzzle_inps_test, puzzle_outs_test = self.process_challenge(\n",
    "                challenge_id, challenges, solutions)\n",
    "            if io == 'input':\n",
    "                if board_type == 'train':\n",
    "                    if board_idx in range(0, len(puzzle_inps_train)):\n",
    "                        board = puzzle_inps_train[board_idx]\n",
    "                else:\n",
    "                    if board_idx in range(0, len(puzzle_inps_test)):\n",
    "                        board = puzzle_inps_test[board_idx]\n",
    "            else:\n",
    "                if board_type == 'train':\n",
    "                    if board_idx in range(0, len(puzzle_outs_train)):\n",
    "                        board = puzzle_outs_train[board_idx]\n",
    "                else:\n",
    "                    if board_idx in range(0, len(puzzle_outs_test)):\n",
    "                        board = puzzle_outs_test[board_idx]\n",
    "        return board\n",
    "\n",
    "    def process_challenge(self, challenge_id, challenges, solutions=None):\n",
    "        one_challenge = challenges[challenge_id]\n",
    "\n",
    "        puzzle_inps_train = []\n",
    "        puzzle_outs_train = []\n",
    "        for puzzles in one_challenge['train']:\n",
    "            puzzle_inps_train.append(np.array(puzzles['input']))\n",
    "            puzzle_outs_train.append(np.array(puzzles['output']))\n",
    "\n",
    "        puzzle_inps_test = []\n",
    "        for puzzles in one_challenge['test']:\n",
    "            puzzle_inps_test.append(np.array(puzzles['input']))\n",
    "\n",
    "        if solutions != None:\n",
    "            one_solution = solutions[challenge_id]\n",
    "            puzzle_outs_test = []\n",
    "            for puzzles in one_solution:\n",
    "                puzzle_outs_test.append(np.array(puzzles))\n",
    "\n",
    "            return puzzle_inps_train, puzzle_outs_train, puzzle_inps_test, puzzle_outs_test\n",
    "\n",
    "        else:\n",
    "            return puzzle_inps_train, puzzle_outs_train, puzzle_inps_test, None"
   ]
  },
  {
   "cell_type": "code",
   "execution_count": 4,
   "id": "1f81cd50",
   "metadata": {
    "execution": {
     "iopub.execute_input": "2024-10-04T16:51:43.220735Z",
     "iopub.status.busy": "2024-10-04T16:51:43.220306Z",
     "iopub.status.idle": "2024-10-04T16:51:43.592420Z",
     "shell.execute_reply": "2024-10-04T16:51:43.590916Z"
    },
    "papermill": {
     "duration": 0.380116,
     "end_time": "2024-10-04T16:51:43.595218",
     "exception": false,
     "start_time": "2024-10-04T16:51:43.215102",
     "status": "completed"
    },
    "tags": []
   },
   "outputs": [],
   "source": [
    "# Initialize solver\n",
    "anr = Solver(prod=True)\n",
    "\n",
    "base_path = '/kaggle/input/arc-prize-2024/' # path may change in 2025 arc-prize\n",
    "test_challenges = anr.test_challenges\n",
    "submission_file_path = '/kaggle/working/submission.json'\n",
    "sample_submission_file_path = base_path + 'sample_submission.json'"
   ]
  },
  {
   "cell_type": "code",
   "execution_count": null,
   "id": "656b9ce9-55f3-4fd4-bb86-18ac1a71bb6d",
   "metadata": {},
   "outputs": [],
   "source": [
    "sample_submission = load_json(sample_submission_file_path)\n",
    "\n",
    "with open(submission_file_path, \"w\") as file:\n",
    "        json.dump(sample_submission, file, indent=4)"
   ]
  },
  {
   "cell_type": "code",
   "execution_count": 6,
   "id": "03d55d83",
   "metadata": {
    "execution": {
     "iopub.execute_input": "2024-10-04T16:51:43.631369Z",
     "iopub.status.busy": "2024-10-04T16:51:43.630879Z",
     "iopub.status.idle": "2024-10-04T16:51:45.977097Z",
     "shell.execute_reply": "2024-10-04T16:51:45.975597Z"
    },
    "papermill": {
     "duration": 2.354653,
     "end_time": "2024-10-04T16:51:45.980285",
     "exception": false,
     "start_time": "2024-10-04T16:51:43.625632",
     "status": "completed"
    },
    "tags": []
   },
   "outputs": [
    {
     "name": "stderr",
     "output_type": "stream",
     "text": [
      "100%|██████████| 100/100 [00:02<00:00, 43.01it/s]\n"
     ]
    }
   ],
   "source": [
    "with open(submission_file_path, \"r+\") as outfile:\n",
    "    submission_data = json.load(outfile)\n",
    "    \n",
    "    ids_test = sort_challenges_by_size(test_challenges)\n",
    "\n",
    "    for i, challenge_id in enumerate(tqdm(ids_test)):\n",
    "        puzzle_ins_train, puzzle_outs_train, puzzle_ins_test, puzzle_outs_test = anr.process_challenge(challenge_id, test_challenges)\n",
    "        \n",
    "        attempt1 = anr.predict(puzzle_ins_train, puzzle_outs_train, puzzle_ins_test)\n",
    "        attempt2 = anr.predict(puzzle_ins_train, puzzle_outs_train, puzzle_ins_test)\n",
    "        \n",
    "        result = []\n",
    "        for j in range(len(attempt1)):\n",
    "            result.append({\n",
    "                'attempt_1': attempt1[j].tolist(),\n",
    "                'attempt_2': attempt2[j].tolist()\n",
    "            })\n",
    "        \n",
    "        submission_data[challenge_id] = result\n",
    "        \n",
    "        outfile.seek(0)\n",
    "        json.dump(submission_data, outfile, indent=4)\n",
    "        outfile.truncate()"
   ]
  },
  {
   "cell_type": "markdown",
   "id": "b9809929",
   "metadata": {},
   "source": [
    "### 💡 Save Yourself the Headache! 💡\n",
    "\n",
    "I've made the mistakes so you don't have to! Now, you'll save tons of time working on ARC-AGI. \n",
    "\n",
    "If this notebook helped you avoid common pitfalls or sped up your progress, I'd love your support!\n",
    "\n",
    "- **Follow me on Kaggle:** [Malo Le Mestre](https://www.kaggle.com/malolem)\n",
    "- **Leave a ⭐ on the GitHub repo** [here](https://github.com/MaloLM/arc-agi-genesis) to show your appreciation and keep the project growing!\n",
    "- **Upvote this notebook** on Kaggle if it saved you from banging your head against the wall!\n",
    "\n",
    "Your feedback keeps me motivated and helps others avoid the same challenges. \n",
    "\n",
    "# Thank you! 🚀✨"
   ]
  }
 ],
 "metadata": {
  "kaggle": {
   "accelerator": "none",
   "dataSources": [
    {
     "databundleVersionId": 8951125,
     "sourceId": 67357,
     "sourceType": "competition"
    },
    {
     "datasetId": 5603181,
     "sourceId": 9260358,
     "sourceType": "datasetVersion"
    }
   ],
   "dockerImageVersionId": 30786,
   "isGpuEnabled": false,
   "isInternetEnabled": false,
   "language": "python",
   "sourceType": "notebook"
  },
  "kernelspec": {
   "display_name": "Python 3 (ipykernel)",
   "language": "python",
   "name": "python3"
  },
  "language_info": {
   "codemirror_mode": {
    "name": "ipython",
    "version": 3
   },
   "file_extension": ".py",
   "mimetype": "text/x-python",
   "name": "python",
   "nbconvert_exporter": "python",
   "pygments_lexer": "ipython3",
   "version": "3.10.11"
  },
  "papermill": {
   "default_parameters": {},
   "duration": 6.386075,
   "end_time": "2024-10-04T16:51:46.407523",
   "environment_variables": {},
   "exception": null,
   "input_path": "__notebook__.ipynb",
   "output_path": "__notebook__.ipynb",
   "parameters": {},
   "start_time": "2024-10-04T16:51:40.021448",
   "version": "2.6.0"
  }
 },
 "nbformat": 4,
 "nbformat_minor": 5
}
