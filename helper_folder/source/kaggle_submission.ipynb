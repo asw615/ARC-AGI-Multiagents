{
 "cells": [
  {
   "cell_type": "markdown",
   "id": "d9137ad5-2ae4-4ba1-84f7-29c4e7e832bb",
   "metadata": {},
   "source": [
    "# 📩 Kaggle Solution Submission With Module Import"
   ]
  },
  {
   "cell_type": "markdown",
   "id": "3eadb2a9-8ecb-4c6a-9d7a-137269f82c0b",
   "metadata": {},
   "source": [
    "### ✅ Successfully Submitted to ARC Prize 2024  \n",
    "(Scored 0.0 because no solution was implemented.)\n",
    "\n",
    "## How to Import This Notebook to Kaggle\n",
    "\n",
    "### Steps to Use This Notebook as a Dataset in Kaggle\n",
    "\n",
    "1. **Go to [Kaggle.com](https://www.kaggle.com)** and sign in.\n",
    "2. **Create a new notebook** in the [ARC-AGI Contest](https://www.kaggle.com/competitions/arc-prize-2024/code) by clicking on **+ New Notebook**.\n",
    "3. In the notebook editor, navigate to **File** → **Import Notebook**.\n",
    "4. **Drag and drop** this notebook file (`.ipynb`) into the import section.\n",
    "5. In the notebook's input section, click **Upload** → **New Dataset**.\n",
    "6. **Drag and drop the `abstract_and_reason` directory** from this project. Ensure the directory contains your models and all components required to run your solution. The notebook name should match the one defined in the cell `solution_name`.\n",
    "\n",
    "    ![Dataset upload menu example](../data/docs/kaggle_dataset.png)\n",
    "\n",
    "7. Finally, **create the dataset** and you're ready to proceed!"
   ]
  },
  {
   "cell_type": "code",
   "execution_count": null,
   "id": "4fa5b8c0",
   "metadata": {
    "papermill": {
     "duration": 0.024359,
     "end_time": "2024-08-27T16:43:18.450008",
     "exception": false,
     "start_time": "2024-08-27T16:43:18.425649",
     "status": "completed"
    },
    "tags": []
   },
   "outputs": [],
   "source": [
    "import json\n",
    "from tqdm import tqdm\n",
    "import json\n",
    "import sys\n",
    "\n",
    "# Add the package directory to Python's sys.path\n",
    "solution_name = 'solution' # same name as the dataset\n",
    "sys.path.append(f'/kaggle/input/{solution_name}/')\n",
    "\n",
    "# Import your custom package or module\n",
    "from abstract_and_reason import solver_v1 # or any other module\n",
    "from abstract_and_reason.assets import load_json\n",
    "from abstract_and_reason.assets import sort_challenges_by_size"
   ]
  },
  {
   "cell_type": "markdown",
   "id": "03b8d043-e423-4715-81ac-4bb670bf7aa9",
   "metadata": {},
   "source": [
    "🚨🚨🚨 Make sure Prod=True bellow (default=False)🚨🚨🚨"
   ]
  },
  {
   "cell_type": "markdown",
   "id": "1c96df2a-b239-479f-a928-63fed1e8a620",
   "metadata": {},
   "source": [
    "## Initialization"
   ]
  },
  {
   "cell_type": "code",
   "execution_count": null,
   "id": "cbc36bfa",
   "metadata": {
    "_cell_guid": "b1076dfc-b9ad-4769-8c92-a6c4dae69d19",
    "_uuid": "8f2839f25d086af736a60e9eeb907d3b93b6e0e5",
    "papermill": {
     "duration": 0.040667,
     "end_time": "2024-08-27T16:43:18.534099",
     "exception": false,
     "start_time": "2024-08-27T16:43:18.493432",
     "status": "completed"
    },
    "tags": []
   },
   "outputs": [],
   "source": [
    "# Initialize solver\n",
    "anr = solver_v1.Solver(prod=True)\n",
    "\n",
    "# Reading files\n",
    "base_path = '/kaggle/input/arc-prize-2024/' # path may change in 2025 arc-prize\n",
    "test_challenges = load_json(base_path +'arc-agi_test_challenges.json')\n",
    "submission_file_path = '/kaggle/working/submission.json'\n",
    "sample_submission_file_path = base_path + 'sample_submission.json'\n",
    "sample_submission = load_json(sample_submission_file_path)"
   ]
  },
  {
   "cell_type": "code",
   "execution_count": null,
   "id": "bcb81785",
   "metadata": {
    "papermill": {
     "duration": 0.019354,
     "end_time": "2024-08-27T16:43:18.556380",
     "exception": false,
     "start_time": "2024-08-27T16:43:18.537026",
     "status": "completed"
    },
    "tags": []
   },
   "outputs": [],
   "source": [
    "sample_submission = load_json(sample_submission_file_path)\n",
    "\n",
    "with open(submission_file_path, \"w\") as file:\n",
    "        json.dump(sample_submission, file, indent=4)"
   ]
  },
  {
   "cell_type": "markdown",
   "id": "ef42dc59-7e40-4bda-8343-c20942f56835",
   "metadata": {},
   "source": [
    "## Challenges execution and submission"
   ]
  },
  {
   "cell_type": "code",
   "execution_count": null,
   "id": "fe375474",
   "metadata": {
    "papermill": {
     "duration": 2.347587,
     "end_time": "2024-08-27T16:43:21.194682",
     "exception": false,
     "start_time": "2024-08-27T16:43:18.847095",
     "status": "completed"
    },
    "tags": []
   },
   "outputs": [],
   "source": [
    "with open(submission_file_path, \"r+\") as outfile:\n",
    "    submission_data = json.load(outfile)\n",
    "\n",
    "    ids_test = sort_challenges_by_size(test_challenges)\n",
    "\n",
    "    for i, challenge_id in enumerate(tqdm(ids_test)):\n",
    "        puzzle_ins_train, puzzle_outs_train, puzzle_ins_test, puzzle_outs_test = anr.process_challenge(challenge_id, test_challenges)\n",
    "        \n",
    "        attempt1 = anr.predict(puzzle_ins_train, puzzle_outs_train, puzzle_ins_test)\n",
    "        attempt2 = anr.predict(puzzle_ins_train, puzzle_outs_train, puzzle_ins_test)\n",
    "        \n",
    "        result = []\n",
    "        for j in range(len(attempt1)):\n",
    "            result.append({\n",
    "                'attempt_1': attempt1[j].tolist(),\n",
    "                'attempt_2': attempt2[j].tolist()\n",
    "            })\n",
    "        \n",
    "        submission_data[challenge_id] = result\n",
    "        \n",
    "        outfile.seek(0)\n",
    "        json.dump(submission_data, outfile, indent=4)\n",
    "        outfile.truncate()"
   ]
  },
  {
   "cell_type": "markdown",
   "id": "b79fe7ce-e89a-431a-80c9-87dbe93f6252",
   "metadata": {},
   "source": [
    "### 💡 Save Yourself the Headache! 💡\n",
    "\n",
    "I've made the mistakes so you don't have to! Now, you'll save tons of time working on ARC-AGI. \n",
    "\n",
    "If this notebook helped you avoid common pitfalls or sped up your progress, I'd love your support!\n",
    "\n",
    "- **Follow me on Kaggle:** [Malo Le Mestre](https://www.kaggle.com/malolem)\n",
    "- **Leave a ⭐ on the GitHub repo** [here](https://github.com/MaloLM/arc-agi-genesis) to show your appreciation and keep the project growing!\n",
    "- **Upvote this notebook** on Kaggle if it saved you from banging your head against the wall!\n",
    "\n",
    "Your feedback keeps me motivated and helps others avoid the same challenges. \n",
    "\n",
    "# Thank you! 🚀✨"
   ]
  }
 ],
 "metadata": {
  "kaggle": {
   "accelerator": "none",
   "dataSources": [
    {
     "databundleVersionId": 8951125,
     "sourceId": 67357,
     "sourceType": "competition"
    },
    {
     "datasetId": 5603181,
     "sourceId": 9260358,
     "sourceType": "datasetVersion"
    }
   ],
   "dockerImageVersionId": 30761,
   "isGpuEnabled": false,
   "isInternetEnabled": false,
   "language": "python",
   "sourceType": "notebook"
  },
  "kernelspec": {
   "display_name": "Python 3 (ipykernel)",
   "language": "python",
   "name": "python3"
  },
  "language_info": {
   "codemirror_mode": {
    "name": "ipython",
    "version": 3
   },
   "file_extension": ".py",
   "mimetype": "text/x-python",
   "name": "python",
   "nbconvert_exporter": "python",
   "pygments_lexer": "ipython3",
   "version": "3.10.11"
  },
  "papermill": {
   "default_parameters": {},
   "duration": 6.069538,
   "end_time": "2024-08-27T16:43:21.619583",
   "environment_variables": {},
   "exception": null,
   "input_path": "__notebook__.ipynb",
   "output_path": "__notebook__.ipynb",
   "parameters": {},
   "start_time": "2024-08-27T16:43:15.550045",
   "version": "2.6.0"
  }
 },
 "nbformat": 4,
 "nbformat_minor": 5
}
