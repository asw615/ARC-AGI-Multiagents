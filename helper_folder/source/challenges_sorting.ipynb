{
 "cells": [
  {
   "cell_type": "markdown",
   "id": "4310e1d2-cf70-4928-bbf7-5a8ed408ec82",
   "metadata": {},
   "source": [
    "# 🚀 Optimizing Task Efficiency in ARC-AGI with Smart Sorting\n",
    "\n",
    "This notebook introduces a function designed to **optimize the order in which challenges are processed** by sorting them based on computational complexity. Complexity is determined by the number of cells in the matrices within a challenge's examples. \n",
    "\n",
    "Although sorting can be done in both ascending and descending order, this function is particularly geared towards sorting in **ascending order**. By tackling simpler tasks first, we can **maximize the number of challenges completed** during time-limited evaluations. This strategy ensures that less complex puzzles are addressed early, boosting overall completion rates and providing an **efficient approach** to tackling the ARC-AGI challenge. 🧠💡"
   ]
  },
  {
   "cell_type": "markdown",
   "id": "a4ee10a4-66e4-4457-afe6-0b6c25218229",
   "metadata": {},
   "source": [
    "## Initialization\n",
    "\n",
    "🚨🚨🚨 change `dev_path` to `prod_path` for Kaggle testing 🚨🚨🚨"
   ]
  },
  {
   "cell_type": "code",
   "execution_count": 1,
   "id": "6db5d567-0176-4333-a91e-112a1aed5a4a",
   "metadata": {},
   "outputs": [],
   "source": [
    "from abstract_and_reason.assets import load_json\n",
    "\n",
    "dev_path = '../data/challenges/' # your own challenge directory\n",
    "prod_path = '/kaggle/input/arc-prize-2024/' # path may change in 2025 arc-prize\n",
    "\n",
    "base_path = dev_path # /!\\ change dev_path to prod_path for Kaggle testing\n",
    "\n",
    "# Reading files\n",
    "training_challenges =  load_json(base_path +'arc-agi_training_challenges.json')\n",
    "training_solutions =   load_json(base_path +'arc-agi_training_solutions.json')\n",
    "evaluation_challenges = load_json(base_path +'arc-agi_evaluation_challenges.json')\n",
    "evaluation_solutions = load_json(base_path +'arc-agi_evaluation_solutions.json')\n",
    "test_challenges = load_json(base_path +'arc-agi_test_challenges.json')\n",
    "sample_submission = load_json(base_path + 'sample_submission.json')"
   ]
  },
  {
   "cell_type": "markdown",
   "id": "c9899c17-b8a1-4989-b676-38c709833126",
   "metadata": {},
   "source": [
    "## The sorting function\n",
    "\n",
    "Feel free to adapt the complexity rule to your need"
   ]
  },
  {
   "cell_type": "code",
   "execution_count": 2,
   "id": "a56aa7fd-6c88-4b27-b403-5fc79d183389",
   "metadata": {},
   "outputs": [],
   "source": [
    "def sort_challenges_by_size(challenges, ascending=True):\n",
    "    \"\"\"\n",
    "    Sorts the challenges by the number of cells in their training examples (input+output).\n",
    "\n",
    "    This function sorts a dictionary of challenges ID based on the total number \n",
    "    of cells (elements) in the 'input' and 'output' grids of the 'train' examples.\n",
    "\n",
    "    Parameters:\n",
    "    -----------\n",
    "    challenges : dict\n",
    "        A dictionary where keys are challenge IDs and values are challenge details.\n",
    "        Each challenge contains a 'train' key, which is a list of examples, and each \n",
    "        example has 'input' and 'output' lists of lists.\n",
    "\n",
    "    ascending : bool, optional (default=True)\n",
    "        If True, the challenges are sorted in ascending order by the number of cells.\n",
    "        If False, they are sorted in descending order.\n",
    "\n",
    "    Returns:\n",
    "    --------\n",
    "    list\n",
    "        A list of challenge IDs sorted by the number of cells in the 'train' examples.\n",
    "\n",
    "\n",
    "    Example:\n",
    "    --------\n",
    "    res = sort_challenges_by_size(training_challenges)\n",
    "    \"\"\"\n",
    "    def count_challenge_cells(challenge):\n",
    "        return sum(\n",
    "            extract_numbers(example['input']) + extract_numbers(example['output']) \n",
    "            for example in challenge['train']\n",
    "        )\n",
    "\n",
    "    def extract_numbers(list_of_lists):\n",
    "        return sum(len(sublist) for sublist in list_of_lists)\n",
    "    \n",
    "    def check_ids(list1, list2):\n",
    "        return sorted(list1) == sorted(list2)\n",
    "    \n",
    "    def sort_ids_by_numbers(ids, numbers, ascending=True):\n",
    "        return [id for _, id in sorted(zip(numbers, ids), reverse=not ascending)]\n",
    "        \n",
    "    challenge_ids = list(challenges)\n",
    "    numbers = [count_challenge_cells(challenges[_id]) for _id in challenge_ids]\n",
    "\n",
    "    return sort_ids_by_numbers(challenge_ids, numbers, ascending=ascending)"
   ]
  },
  {
   "cell_type": "markdown",
   "id": "9c834800-3e75-49a1-aab3-05af1eb4b50d",
   "metadata": {},
   "source": [
    "## Testing"
   ]
  },
  {
   "cell_type": "code",
   "execution_count": 3,
   "id": "f9330cb5-2a1b-495a-bff3-89da5bfc94d3",
   "metadata": {},
   "outputs": [],
   "source": [
    "def count_challenge_cells(challenge):\n",
    "    return sum(\n",
    "        extract_numbers(example['input']) + extract_numbers(example['output']) \n",
    "        for example in challenge['train']\n",
    "    )\n",
    "\n",
    "def extract_numbers(list_of_lists):\n",
    "    return sum(len(sublist) for sublist in list_of_lists)"
   ]
  },
  {
   "cell_type": "markdown",
   "id": "3d212926-f076-48a8-ac87-8756a500dad0",
   "metadata": {},
   "source": [
    "### Ascending challenge sorting"
   ]
  },
  {
   "cell_type": "code",
   "execution_count": 4,
   "id": "35f2a058-fe6b-4b79-83fd-580cac74df4f",
   "metadata": {},
   "outputs": [
    {
     "name": "stdout",
     "output_type": "stream",
     "text": [
      "Ordered properly!\n"
     ]
    }
   ],
   "source": [
    "res = sort_challenges_by_size(training_challenges)\n",
    "\n",
    "last = float('-inf')\n",
    "\n",
    "for _id in res:\n",
    "    challenge = training_challenges[_id]\n",
    "    nb_cells = count_challenge_cells(challenge)\n",
    "    assert nb_cells >= last, f\"{nb_cells} is not superior to previous challenge {last}\"\n",
    "    last = nb_cells\n",
    "    \n",
    "print(\"Ordered properly!\")"
   ]
  },
  {
   "cell_type": "markdown",
   "id": "aed1c804-3f76-424f-8119-8c2ce2f24f7d",
   "metadata": {},
   "source": [
    "### Descending challenge sorting"
   ]
  },
  {
   "cell_type": "code",
   "execution_count": 5,
   "id": "ec13dffe-57ca-4eb6-b6fc-d75c130640cb",
   "metadata": {},
   "outputs": [
    {
     "name": "stdout",
     "output_type": "stream",
     "text": [
      "Ordered properly!\n"
     ]
    }
   ],
   "source": [
    "res = sort_challenges_by_size(training_challenges, ascending=False) # Descending\n",
    "\n",
    "last = float('inf')\n",
    "\n",
    "for _id in res:\n",
    "    challenge = training_challenges[_id]\n",
    "    nb_cells = count_challenge_cells(challenge)\n",
    "    assert nb_cells <= last, f\"{nb_cells} is not inferior to previous challenge {last}\"\n",
    "    last = nb_cells\n",
    "    \n",
    "print(\"Ordered properly!\")"
   ]
  },
  {
   "cell_type": "markdown",
   "id": "25924760",
   "metadata": {},
   "source": [
    "### 💡 Save Yourself the Headache! 💡\n",
    "\n",
    "I've made the mistakes so you don't have to! Now, you'll save tons of time working on ARC-AGI. \n",
    "\n",
    "If this notebook helped you avoid common pitfalls or sped up your progress, I'd love your support!\n",
    "\n",
    "- **Follow me on Kaggle:** [Malo Le Mestre](https://www.kaggle.com/malolem)\n",
    "- **Leave a ⭐ on the GitHub repo** [here](https://github.com/MaloLM/arc-agi-genesis) to show your appreciation and keep the project growing!\n",
    "- **Upvote this notebook** on Kaggle if it saved you from banging your head against the wall!\n",
    "\n",
    "Your feedback keeps me motivated and helps others avoid the same challenges. \n",
    "\n",
    "# Thank you! 🚀✨"
   ]
  }
 ],
 "metadata": {
  "kernelspec": {
   "display_name": "Python 3",
   "language": "python",
   "name": "python3"
  },
  "language_info": {
   "codemirror_mode": {
    "name": "ipython",
    "version": 3
   },
   "file_extension": ".py",
   "mimetype": "text/x-python",
   "name": "python",
   "nbconvert_exporter": "python",
   "pygments_lexer": "ipython3",
   "version": "3.12.5"
  }
 },
 "nbformat": 4,
 "nbformat_minor": 5
}
