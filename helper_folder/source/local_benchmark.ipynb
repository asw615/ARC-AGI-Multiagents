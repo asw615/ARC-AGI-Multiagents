{
 "cells": [
  {
   "cell_type": "markdown",
   "id": "41822552-3244-4b0f-b655-a8b1d3392c15",
   "metadata": {},
   "source": [
    "# 🖥️ Local Benchmark for ARC-AGI\n",
    "\n",
    "This notebook is designed to **evaluate your ARC-AGI solution locally** on your machine. It provides a streamlined setup for testing your approach before transitioning to the Kaggle environment. However, you may need to adjust a few paths to ensure compatibility with Kaggle."
   ]
  },
  {
   "cell_type": "markdown",
   "id": "3b1991ab",
   "metadata": {
    "papermill": {
     "duration": 0.010814,
     "end_time": "2024-07-08T15:32:14.614024",
     "exception": false,
     "start_time": "2024-07-08T15:32:14.603210",
     "status": "completed"
    },
    "tags": []
   },
   "source": [
    "## Imports"
   ]
  },
  {
   "cell_type": "code",
   "execution_count": 1,
   "id": "ff006920",
   "metadata": {
    "_cell_guid": "b1076dfc-b9ad-4769-8c92-a6c4dae69d19",
    "_uuid": "8f2839f25d086af736a60e9eeb907d3b93b6e0e5",
    "papermill": {
     "duration": 0.035062,
     "end_time": "2024-07-08T15:32:14.659688",
     "exception": false,
     "start_time": "2024-07-08T15:32:14.624626",
     "status": "completed"
    },
    "tags": []
   },
   "outputs": [],
   "source": [
    "import json\n",
    "from tqdm import tqdm\n",
    "# -------------------\n",
    "from abstract_and_reason import solver_v1\n",
    "from abstract_and_reason.assets import load_json, sort_challenges_by_size"
   ]
  },
  {
   "cell_type": "markdown",
   "id": "423f6bb8",
   "metadata": {
    "papermill": {
     "duration": 0.010881,
     "end_time": "2024-07-08T15:32:15.255718",
     "exception": false,
     "start_time": "2024-07-08T15:32:15.244837",
     "status": "completed"
    },
    "tags": []
   },
   "source": [
    "## Let's define our Solver"
   ]
  },
  {
   "cell_type": "code",
   "execution_count": 2,
   "id": "8226ce38-624a-4162-a19e-cdd8858a39ce",
   "metadata": {},
   "outputs": [],
   "source": [
    "abstract_and_reason = solver_v1.Solver(prod=False)"
   ]
  },
  {
   "cell_type": "markdown",
   "id": "96609b68",
   "metadata": {
    "papermill": {
     "duration": 0.010587,
     "end_time": "2024-07-08T15:32:14.681256",
     "exception": false,
     "start_time": "2024-07-08T15:32:14.670669",
     "status": "completed"
    },
    "tags": []
   },
   "source": [
    "## JSON files loading"
   ]
  },
  {
   "cell_type": "markdown",
   "id": "504bd2d1-71e5-4957-a91b-ab594636b043",
   "metadata": {},
   "source": [
    "🚨🚨🚨 change `dev_path` to `prod_path` for Kaggle testing 🚨🚨🚨"
   ]
  },
  {
   "cell_type": "code",
   "execution_count": 3,
   "id": "724ac741",
   "metadata": {
    "papermill": {
     "duration": 0.020352,
     "end_time": "2024-07-08T15:32:14.712287",
     "exception": false,
     "start_time": "2024-07-08T15:32:14.691935",
     "status": "completed"
    },
    "tags": []
   },
   "outputs": [],
   "source": [
    "dev_path = '../data/challenges/' # your own challenge directory\n",
    "prod_path = '/kaggle/input/arc-prize-2024/' # path may change in 2025 arc-prize\n",
    "\n",
    "base_path = dev_path # /!\\ change dev_path to prod_path for Kaggle testing\n",
    "\n",
    "\n",
    "submission_file_path = './submission.json'\n",
    "sample_submission_file_path = base_path + 'sample_submission.json'\n",
    "\n",
    "training_challenges = abstract_and_reason.training_challenges\n",
    "training_solutions = abstract_and_reason.training_solutions\n",
    "evaluation_challenges = abstract_and_reason.evaluation_challenges\n",
    "evaluation_solutions = abstract_and_reason.evaluation_solutions\n",
    "test_challenges = abstract_and_reason.test_challenges\n",
    "sample_submission = abstract_and_reason.sample_submission"
   ]
  },
  {
   "cell_type": "markdown",
   "id": "37b06065-da76-4872-a6c2-5da8128112eb",
   "metadata": {},
   "source": [
    "## Submission file creation and filling"
   ]
  },
  {
   "cell_type": "markdown",
   "id": "4223ee12-e14f-430a-aa77-025d6e0c4624",
   "metadata": {},
   "source": [
    "The submission file is filled with 2 wrong attemps for each challenge, which makes it ready to get evaluated. \n",
    "\n",
    "Next cells bellow will fill the challenges answers using your own solution."
   ]
  },
  {
   "cell_type": "code",
   "execution_count": 4,
   "id": "dc4d8fb8-9cd0-4773-9dba-6f23c5e5fa3d",
   "metadata": {},
   "outputs": [],
   "source": [
    "with open(submission_file_path, \"w\") as file:\n",
    "        json.dump(sample_submission, file, indent=4)"
   ]
  },
  {
   "cell_type": "markdown",
   "id": "266fe763",
   "metadata": {
    "papermill": {
     "duration": 0.011463,
     "end_time": "2024-07-08T15:32:15.926317",
     "exception": false,
     "start_time": "2024-07-08T15:32:15.914854",
     "status": "completed"
    },
    "tags": []
   },
   "source": [
    "# Submission"
   ]
  },
  {
   "cell_type": "code",
   "execution_count": 5,
   "id": "f08ea1e9",
   "metadata": {
    "papermill": {
     "duration": 0.02201,
     "end_time": "2024-07-08T15:32:15.961345",
     "exception": false,
     "start_time": "2024-07-08T15:32:15.939335",
     "status": "completed"
    },
    "tags": []
   },
   "outputs": [
    {
     "name": "stderr",
     "output_type": "stream",
     "text": [
      "100%|█████████████████████████████████████████████| 100/100 [00:00<00:00, 214.42it/s]\n"
     ]
    }
   ],
   "source": [
    "with open(submission_file_path, \"r+\") as outfile:\n",
    "    submission_data = json.load(outfile)\n",
    "    \n",
    "    ids_test = sort_challenges_by_size(test_challenges)\n",
    "\n",
    "    for i, challenge_id in enumerate(tqdm(ids_test)):\n",
    "        puzzle_inps_train, puzzle_outs_train, puzzle_inps_test, puzzle_outs_test = abstract_and_reason.process_challenge(challenge_id, test_challenges)\n",
    "        \n",
    "        attempt1 = abstract_and_reason.predict(puzzle_inps_train, puzzle_outs_train, puzzle_inps_test)\n",
    "        attempt2 = abstract_and_reason.predict(puzzle_inps_train, puzzle_outs_train, puzzle_inps_test)\n",
    "        \n",
    "        result = []\n",
    "        for j in range(len(attempt1)):\n",
    "            result.append({\n",
    "                'attempt_1': attempt1[j].tolist(),\n",
    "                'attempt_2': attempt2[j].tolist()\n",
    "            })\n",
    "        \n",
    "        submission_data[challenge_id] = result\n",
    "        \n",
    "        outfile.seek(0)\n",
    "        json.dump(submission_data, outfile, indent=4)\n",
    "        outfile.truncate()"
   ]
  },
  {
   "cell_type": "markdown",
   "id": "6d6c31f7-91a0-4b8b-b45e-24c8a4289cd7",
   "metadata": {},
   "source": [
    "# Validation"
   ]
  },
  {
   "cell_type": "code",
   "execution_count": 6,
   "id": "52c71fd9-0a68-41a5-8fad-bd47a3d5488a",
   "metadata": {},
   "outputs": [],
   "source": [
    "import numpy as np\n",
    "\n",
    "def get_score(model_answers, real_answers):\n",
    "    \"\"\"\n",
    "    Computes a score based on the similarity between model-generated answers and real answers.\n",
    "    It handles input matrices of different shapes and ensures comparisons are done within the bounds of the shortest list.\n",
    "\n",
    "    Args:\n",
    "        model_answers (list of lists): Model-generated answers as matrices (list of lists).\n",
    "        real_answers (list of lists): Real answers as matrices (list of lists).\n",
    "\n",
    "    Returns:\n",
    "        int: The total score as an integer.\n",
    "    \"\"\"\n",
    "    total_score = 0\n",
    "    valid_comparisons = 0\n",
    "    \n",
    "    for i in range(min(len(model_answers), len(real_answers))):\n",
    "        model_answer = np.array(model_answers[i])\n",
    "        real_answer = np.array(real_answers[i])\n",
    "        \n",
    "        if model_answer.shape == real_answer.shape:\n",
    "            score = ((model_answer == real_answer).astype(int)).mean()\n",
    "            if score == 1.0:\n",
    "                total_score += 1\n",
    "            valid_comparisons += 1\n",
    "    \n",
    "    return int(total_score / valid_comparisons) if valid_comparisons > 0 else 0\n",
    "\n",
    "\n",
    "def get_anwser(challenge_id, answers_file_path):\n",
    "    sample_submission = load_json(answers_file_path)\n",
    "    challenge = sample_submission[challenge_id]\n",
    "    return challenge[0]"
   ]
  },
  {
   "cell_type": "code",
   "execution_count": 8,
   "id": "f3dda161-1b13-4063-8105-e6520840e2a3",
   "metadata": {},
   "outputs": [
    {
     "name": "stdout",
     "output_type": "stream",
     "text": [
      "\n",
      "\n",
      "Final score: 0.0\n"
     ]
    }
   ],
   "source": [
    "total_score = 0\n",
    "\n",
    "with open(submission_file_path, \"r\") as outfile: # previously 'r+'\n",
    "    submission_data = json.load(outfile)\n",
    "    \n",
    "    ids_test = sort_challenges_by_size(test_challenges)\n",
    "\n",
    "    for i, challenge_id in enumerate(ids_test):\n",
    "\n",
    "        ground_truth = get_anwser(challenge_id, sample_submission_file_path)\n",
    "        model_answer = get_anwser(challenge_id, submission_file_path)\n",
    "\n",
    "        challenge_score = 0\n",
    "        for attempt in ground_truth.keys():\n",
    "            challenge_score += get_score(model_answer[attempt], ground_truth[attempt])\n",
    "\n",
    "        total_score += (challenge_score)/2\n",
    "\n",
    "print(f\"\\n\\nFinal score: {total_score}\")"
   ]
  },
  {
   "cell_type": "markdown",
   "id": "9670dd9a",
   "metadata": {},
   "source": [
    "### 💡 Save Yourself the Headache! 💡\n",
    "\n",
    "I've made the mistakes so you don't have to! Now, you'll save tons of time working on ARC-AGI. \n",
    "\n",
    "If this notebook helped you avoid common pitfalls or sped up your progress, I'd love your support!\n",
    "\n",
    "- **Follow me on Kaggle:** [Malo Le Mestre](https://www.kaggle.com/malolem)\n",
    "- **Leave a ⭐ on the GitHub repo** [here](https://github.com/MaloLM/arc-agi-genesis) to show your appreciation and keep the project growing!\n",
    "- **Upvote this notebook** on Kaggle if it saved you from banging your head against the wall!\n",
    "\n",
    "Your feedback keeps me motivated and helps others avoid the same challenges. \n",
    "\n",
    "# Thank you! 🚀✨"
   ]
  }
 ],
 "metadata": {
  "kaggle": {
   "accelerator": "none",
   "dataSources": [
    {
     "databundleVersionId": 8951125,
     "sourceId": 67357,
     "sourceType": "competition"
    }
   ],
   "dockerImageVersionId": 30732,
   "isGpuEnabled": false,
   "isInternetEnabled": false,
   "language": "python",
   "sourceType": "notebook"
  },
  "kernelspec": {
   "display_name": "Python 3 (ipykernel)",
   "language": "python",
   "name": "python3"
  },
  "language_info": {
   "codemirror_mode": {
    "name": "ipython",
    "version": 3
   },
   "file_extension": ".py",
   "mimetype": "text/x-python",
   "name": "python",
   "nbconvert_exporter": "python",
   "pygments_lexer": "ipython3",
   "version": "3.10.11"
  },
  "papermill": {
   "default_parameters": {},
   "duration": 5.359109,
   "end_time": "2024-07-08T15:32:16.718057",
   "environment_variables": {},
   "exception": null,
   "input_path": "__notebook__.ipynb",
   "output_path": "__notebook__.ipynb",
   "parameters": {},
   "start_time": "2024-07-08T15:32:11.358948",
   "version": "2.5.0"
  }
 },
 "nbformat": 4,
 "nbformat_minor": 5
}
